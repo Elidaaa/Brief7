{
 "cells": [
  {
   "cell_type": "markdown",
   "id": "ad4ba206-5346-46ba-ab97-540d1d0afcc4",
   "metadata": {},
   "source": [
    "# Book Business"
   ]
  },
  {
   "cell_type": "markdown",
   "id": "45d69768-a1d5-4e5e-8d2b-8dd53dea5051",
   "metadata": {},
   "source": [
    " "
   ]
  },
  {
   "cell_type": "markdown",
   "id": "553daf62-f690-4408-8e69-c3a153483097",
   "metadata": {},
   "source": [
    "## Mission n° 1 : Nettoyage des données\n",
    "*Faire des choix quant au traitement des valeurs manquantes et des valeurs aberrantes.*"
   ]
  },
  {
   "cell_type": "code",
   "execution_count": 110,
   "id": "a3ddc856-776a-4663-bb6a-334d6bd65b41",
   "metadata": {},
   "outputs": [],
   "source": [
    "# importer les libraires\n",
    "import pandas as pd\n",
    "import numpy as np\n",
    "import seaborn as sns\n",
    "from matplotlib import pyplot as plt"
   ]
  },
  {
   "cell_type": "code",
   "execution_count": 71,
   "id": "b123e58e-cc3d-4ea7-ab3d-8debc65e0aad",
   "metadata": {},
   "outputs": [],
   "source": [
    "# importer fichier csv\n",
    "df_clients = pd.read_csv('clients.csv')\n",
    "df_ventes = pd.read_csv('ventes.csv')\n",
    "df_produits = pd.read_csv('produits.csv')"
   ]
  },
  {
   "cell_type": "code",
   "execution_count": 119,
   "id": "d03e9a5b-7c07-42ae-8fbc-e9d9d76eee48",
   "metadata": {},
   "outputs": [
    {
     "data": {
      "text/html": [
       "<div>\n",
       "<style scoped>\n",
       "    .dataframe tbody tr th:only-of-type {\n",
       "        vertical-align: middle;\n",
       "    }\n",
       "\n",
       "    .dataframe tbody tr th {\n",
       "        vertical-align: top;\n",
       "    }\n",
       "\n",
       "    .dataframe thead th {\n",
       "        text-align: right;\n",
       "    }\n",
       "</style>\n",
       "<table border=\"1\" class=\"dataframe\">\n",
       "  <thead>\n",
       "    <tr style=\"text-align: right;\">\n",
       "      <th></th>\n",
       "      <th>client_id</th>\n",
       "      <th>sex</th>\n",
       "      <th>birth</th>\n",
       "    </tr>\n",
       "  </thead>\n",
       "  <tbody>\n",
       "    <tr>\n",
       "      <th>0</th>\n",
       "      <td>c_4410</td>\n",
       "      <td>f</td>\n",
       "      <td>1967</td>\n",
       "    </tr>\n",
       "    <tr>\n",
       "      <th>1</th>\n",
       "      <td>c_7839</td>\n",
       "      <td>f</td>\n",
       "      <td>1975</td>\n",
       "    </tr>\n",
       "    <tr>\n",
       "      <th>2</th>\n",
       "      <td>c_1699</td>\n",
       "      <td>f</td>\n",
       "      <td>1984</td>\n",
       "    </tr>\n",
       "    <tr>\n",
       "      <th>3</th>\n",
       "      <td>c_5961</td>\n",
       "      <td>f</td>\n",
       "      <td>1962</td>\n",
       "    </tr>\n",
       "    <tr>\n",
       "      <th>4</th>\n",
       "      <td>c_5320</td>\n",
       "      <td>m</td>\n",
       "      <td>1943</td>\n",
       "    </tr>\n",
       "  </tbody>\n",
       "</table>\n",
       "</div>"
      ],
      "text/plain": [
       "  client_id sex  birth\n",
       "0    c_4410   f   1967\n",
       "1    c_7839   f   1975\n",
       "2    c_1699   f   1984\n",
       "3    c_5961   f   1962\n",
       "4    c_5320   m   1943"
      ]
     },
     "execution_count": 119,
     "metadata": {},
     "output_type": "execute_result"
    }
   ],
   "source": [
    "# anlysons le df_clients\n",
    "df_clients.head()"
   ]
  },
  {
   "cell_type": "code",
   "execution_count": 118,
   "id": "5e4f0ce9-1a56-4bdf-9c82-64764e790f97",
   "metadata": {},
   "outputs": [
    {
     "name": "stdout",
     "output_type": "stream",
     "text": [
      "<class 'pandas.core.frame.DataFrame'>\n",
      "RangeIndex: 8623 entries, 0 to 8622\n",
      "Data columns (total 3 columns):\n",
      " #   Column     Non-Null Count  Dtype \n",
      "---  ------     --------------  ----- \n",
      " 0   client_id  8623 non-null   object\n",
      " 1   sex        8623 non-null   object\n",
      " 2   birth      8623 non-null   int64 \n",
      "dtypes: int64(1), object(2)\n",
      "memory usage: 202.2+ KB\n"
     ]
    }
   ],
   "source": [
    "df_clients.info()"
   ]
  },
  {
   "cell_type": "code",
   "execution_count": 74,
   "id": "c1fed144-976c-4ac7-b91c-562ae3bc205c",
   "metadata": {},
   "outputs": [
    {
     "data": {
      "text/plain": [
       "0"
      ]
     },
     "execution_count": 74,
     "metadata": {},
     "output_type": "execute_result"
    }
   ],
   "source": [
    "df_clients.duplicated().sum()"
   ]
  },
  {
   "cell_type": "code",
   "execution_count": 75,
   "id": "b08ba81d-d97a-42d3-842e-22564c39a5c0",
   "metadata": {},
   "outputs": [
    {
     "data": {
      "text/plain": [
       "client_id    0\n",
       "sex          0\n",
       "birth        0\n",
       "dtype: int64"
      ]
     },
     "execution_count": 75,
     "metadata": {},
     "output_type": "execute_result"
    }
   ],
   "source": [
    "df_clients.isnull().sum()"
   ]
  },
  {
   "cell_type": "markdown",
   "id": "79348b37-aef6-4832-adbb-aad677d9429a",
   "metadata": {},
   "source": [
    "Nous pouvons voir que le dataframe clients ne comporte aucune case vide ni de doublon."
   ]
  },
  {
   "cell_type": "code",
   "execution_count": 76,
   "id": "796649f8-08e6-4d75-8b7a-52b080edd41a",
   "metadata": {},
   "outputs": [
    {
     "data": {
      "text/html": [
       "<div>\n",
       "<style scoped>\n",
       "    .dataframe tbody tr th:only-of-type {\n",
       "        vertical-align: middle;\n",
       "    }\n",
       "\n",
       "    .dataframe tbody tr th {\n",
       "        vertical-align: top;\n",
       "    }\n",
       "\n",
       "    .dataframe thead th {\n",
       "        text-align: right;\n",
       "    }\n",
       "</style>\n",
       "<table border=\"1\" class=\"dataframe\">\n",
       "  <thead>\n",
       "    <tr style=\"text-align: right;\">\n",
       "      <th></th>\n",
       "      <th>id_prod</th>\n",
       "      <th>date</th>\n",
       "      <th>session_id</th>\n",
       "      <th>client_id</th>\n",
       "    </tr>\n",
       "  </thead>\n",
       "  <tbody>\n",
       "    <tr>\n",
       "      <th>0</th>\n",
       "      <td>0_1483</td>\n",
       "      <td>2021-04-10 18:37:28.723910</td>\n",
       "      <td>s_18746</td>\n",
       "      <td>c_4450</td>\n",
       "    </tr>\n",
       "    <tr>\n",
       "      <th>1</th>\n",
       "      <td>2_226</td>\n",
       "      <td>2022-02-03 01:55:53.276402</td>\n",
       "      <td>s_159142</td>\n",
       "      <td>c_277</td>\n",
       "    </tr>\n",
       "    <tr>\n",
       "      <th>2</th>\n",
       "      <td>1_374</td>\n",
       "      <td>2021-09-23 15:13:46.938559</td>\n",
       "      <td>s_94290</td>\n",
       "      <td>c_4270</td>\n",
       "    </tr>\n",
       "    <tr>\n",
       "      <th>3</th>\n",
       "      <td>0_2186</td>\n",
       "      <td>2021-10-17 03:27:18.783634</td>\n",
       "      <td>s_105936</td>\n",
       "      <td>c_4597</td>\n",
       "    </tr>\n",
       "    <tr>\n",
       "      <th>4</th>\n",
       "      <td>0_1351</td>\n",
       "      <td>2021-07-17 20:34:25.800563</td>\n",
       "      <td>s_63642</td>\n",
       "      <td>c_1242</td>\n",
       "    </tr>\n",
       "  </tbody>\n",
       "</table>\n",
       "</div>"
      ],
      "text/plain": [
       "  id_prod                        date session_id client_id\n",
       "0  0_1483  2021-04-10 18:37:28.723910    s_18746    c_4450\n",
       "1   2_226  2022-02-03 01:55:53.276402   s_159142     c_277\n",
       "2   1_374  2021-09-23 15:13:46.938559    s_94290    c_4270\n",
       "3  0_2186  2021-10-17 03:27:18.783634   s_105936    c_4597\n",
       "4  0_1351  2021-07-17 20:34:25.800563    s_63642    c_1242"
      ]
     },
     "execution_count": 76,
     "metadata": {},
     "output_type": "execute_result"
    }
   ],
   "source": [
    "# analyse de df_ventes\n",
    "df_ventes.head()"
   ]
  },
  {
   "cell_type": "code",
   "execution_count": 77,
   "id": "3d5574d2-9e56-482d-9293-fd9abb65a26e",
   "metadata": {},
   "outputs": [
    {
     "name": "stdout",
     "output_type": "stream",
     "text": [
      "<class 'pandas.core.frame.DataFrame'>\n",
      "RangeIndex: 337016 entries, 0 to 337015\n",
      "Data columns (total 4 columns):\n",
      " #   Column      Non-Null Count   Dtype \n",
      "---  ------      --------------   ----- \n",
      " 0   id_prod     337016 non-null  object\n",
      " 1   date        337016 non-null  object\n",
      " 2   session_id  337016 non-null  object\n",
      " 3   client_id   337016 non-null  object\n",
      "dtypes: object(4)\n",
      "memory usage: 10.3+ MB\n"
     ]
    }
   ],
   "source": [
    "df_ventes.info()"
   ]
  },
  {
   "cell_type": "code",
   "execution_count": 78,
   "id": "9afb5fbc-4bee-477c-8656-6a8e3b412619",
   "metadata": {},
   "outputs": [
    {
     "data": {
      "text/plain": [
       "id_prod       0\n",
       "date          0\n",
       "session_id    0\n",
       "client_id     0\n",
       "dtype: int64"
      ]
     },
     "execution_count": 78,
     "metadata": {},
     "output_type": "execute_result"
    }
   ],
   "source": [
    "df_ventes.isnull().sum()"
   ]
  },
  {
   "cell_type": "code",
   "execution_count": 79,
   "id": "01c17bc3-255c-4ff6-80f5-fff6cf337afc",
   "metadata": {},
   "outputs": [
    {
     "data": {
      "text/plain": [
       "126"
      ]
     },
     "execution_count": 79,
     "metadata": {},
     "output_type": "execute_result"
    }
   ],
   "source": [
    "df_ventes.duplicated().sum()"
   ]
  },
  {
   "cell_type": "markdown",
   "id": "3af99299-bd71-4421-9c9a-3f55674f1d12",
   "metadata": {},
   "source": [
    "Pour df_ventes, nous n'avons pas de case vide, mais 126 lignes sur 337016, comportent des doublons. Voyons voir où se situe exactement ces doublons, interessons-nous donc aux différentes colonnes."
   ]
  },
  {
   "cell_type": "code",
   "execution_count": 80,
   "id": "5ed82000-836f-4832-9832-2ca996971a37",
   "metadata": {},
   "outputs": [
    {
     "data": {
      "text/plain": [
       "Index(['id_prod', 'date', 'session_id', 'client_id'], dtype='object')"
      ]
     },
     "execution_count": 80,
     "metadata": {},
     "output_type": "execute_result"
    }
   ],
   "source": [
    "df_ventes.columns"
   ]
  },
  {
   "cell_type": "code",
   "execution_count": 81,
   "id": "89d5df0a-782b-4866-879a-9a63dfc5c9b9",
   "metadata": {},
   "outputs": [
    {
     "data": {
      "text/plain": [
       "0         0_1483\n",
       "1          2_226\n",
       "2          1_374\n",
       "3         0_2186\n",
       "4         0_1351\n",
       "           ...  \n",
       "337011     1_671\n",
       "337012     0_759\n",
       "337013    0_1256\n",
       "337014     2_227\n",
       "337015    0_1417\n",
       "Name: id_prod, Length: 337016, dtype: object"
      ]
     },
     "execution_count": 81,
     "metadata": {},
     "output_type": "execute_result"
    }
   ],
   "source": [
    "df_ventes.id_prod"
   ]
  },
  {
   "cell_type": "code",
   "execution_count": 82,
   "id": "97bad595-6032-408d-a5bc-c199e2c836bd",
   "metadata": {},
   "outputs": [
    {
     "data": {
      "text/plain": [
       "True     333750\n",
       "False      3266\n",
       "Name: id_prod, dtype: int64"
      ]
     },
     "execution_count": 82,
     "metadata": {},
     "output_type": "execute_result"
    }
   ],
   "source": [
    "df_ventes.id_prod.duplicated().value_counts()"
   ]
  },
  {
   "cell_type": "code",
   "execution_count": 83,
   "id": "8bb22197-1ed6-466f-bed3-729d51958fb3",
   "metadata": {},
   "outputs": [
    {
     "data": {
      "text/plain": [
       "0"
      ]
     },
     "execution_count": 83,
     "metadata": {},
     "output_type": "execute_result"
    }
   ],
   "source": [
    "df_ventes.id_prod.isnull().sum()"
   ]
  },
  {
   "cell_type": "code",
   "execution_count": 84,
   "id": "5d4a2511-98fd-439e-9842-b109425fa3b4",
   "metadata": {},
   "outputs": [
    {
     "data": {
      "text/plain": [
       "False    336855\n",
       "True        161\n",
       "Name: date, dtype: int64"
      ]
     },
     "execution_count": 84,
     "metadata": {},
     "output_type": "execute_result"
    }
   ],
   "source": [
    "df_ventes.date.duplicated().value_counts()"
   ]
  },
  {
   "cell_type": "code",
   "execution_count": 85,
   "id": "bff4317a-44eb-4d07-aef9-b917ebf9112d",
   "metadata": {},
   "outputs": [
    {
     "data": {
      "text/plain": [
       "0"
      ]
     },
     "execution_count": 85,
     "metadata": {},
     "output_type": "execute_result"
    }
   ],
   "source": [
    "df_ventes.date.isnull().sum()"
   ]
  },
  {
   "cell_type": "code",
   "execution_count": 87,
   "id": "763d91ca-3a9f-47e9-a332-983a60600fcb",
   "metadata": {},
   "outputs": [
    {
     "data": {
      "text/plain": [
       "0"
      ]
     },
     "execution_count": 87,
     "metadata": {},
     "output_type": "execute_result"
    }
   ],
   "source": [
    "df_ventes.session_id.isnull().sum()"
   ]
  },
  {
   "cell_type": "code",
   "execution_count": 31,
   "id": "dd7dc3d8-5f36-4169-ab02-6c665357f0c0",
   "metadata": {},
   "outputs": [
    {
     "data": {
      "text/plain": [
       "False    169195\n",
       "True     167821\n",
       "Name: session_id, dtype: int64"
      ]
     },
     "execution_count": 31,
     "metadata": {},
     "output_type": "execute_result"
    }
   ],
   "source": [
    "df_ventes.session_id.duplicated().value_counts()"
   ]
  },
  {
   "cell_type": "code",
   "execution_count": 33,
   "id": "eada2e6f-e8bf-40a7-bbca-b6b35a448b2f",
   "metadata": {},
   "outputs": [
    {
     "data": {
      "text/plain": [
       "0"
      ]
     },
     "execution_count": 33,
     "metadata": {},
     "output_type": "execute_result"
    }
   ],
   "source": [
    "df_ventes.client_id.isnull().sum()"
   ]
  },
  {
   "cell_type": "code",
   "execution_count": 34,
   "id": "679eb084-06a3-421a-9d3e-a188ab047f31",
   "metadata": {},
   "outputs": [
    {
     "data": {
      "text/plain": [
       "True     328414\n",
       "False      8602\n",
       "Name: client_id, dtype: int64"
      ]
     },
     "execution_count": 34,
     "metadata": {},
     "output_type": "execute_result"
    }
   ],
   "source": [
    "df_ventes.client_id.duplicated().value_counts()"
   ]
  },
  {
   "cell_type": "code",
   "execution_count": 36,
   "id": "3f9c3f2d-1861-45da-8832-406eb643885e",
   "metadata": {},
   "outputs": [
    {
     "data": {
      "text/plain": [
       "337016"
      ]
     },
     "execution_count": 36,
     "metadata": {},
     "output_type": "execute_result"
    }
   ],
   "source": [
    "len(df_ventes)"
   ]
  },
  {
   "cell_type": "code",
   "execution_count": 51,
   "id": "43eca8f8-2597-4324-be43-18f6def87f79",
   "metadata": {},
   "outputs": [],
   "source": [
    "df_ventes_final = df_ventes.drop_duplicates()"
   ]
  },
  {
   "cell_type": "code",
   "execution_count": 52,
   "id": "2246df3a-0b42-47f4-a560-0234b02b37c6",
   "metadata": {},
   "outputs": [
    {
     "name": "stdout",
     "output_type": "stream",
     "text": [
      "<class 'pandas.core.frame.DataFrame'>\n",
      "Int64Index: 336890 entries, 0 to 337015\n",
      "Data columns (total 4 columns):\n",
      " #   Column      Non-Null Count   Dtype \n",
      "---  ------      --------------   ----- \n",
      " 0   id_prod     336890 non-null  object\n",
      " 1   date        336890 non-null  object\n",
      " 2   session_id  336890 non-null  object\n",
      " 3   client_id   336890 non-null  object\n",
      "dtypes: object(4)\n",
      "memory usage: 12.9+ MB\n"
     ]
    }
   ],
   "source": [
    "df_ventes_final.info()"
   ]
  },
  {
   "cell_type": "code",
   "execution_count": 53,
   "id": "00c2303c-368c-427d-99e9-7baa610c13fe",
   "metadata": {},
   "outputs": [
    {
     "data": {
      "text/plain": [
       "336890"
      ]
     },
     "execution_count": 53,
     "metadata": {},
     "output_type": "execute_result"
    }
   ],
   "source": [
    "len(df_ventes_final)"
   ]
  },
  {
   "cell_type": "markdown",
   "id": "3a1e9ed8-9042-43cd-ba12-ee164ca12565",
   "metadata": {},
   "source": [
    "En analysant les différentes colonnes, nous avons vu qu'il y avait des doublons dans chaques colonnes. Mais en utilisant la méthodes \" df_ventes.duplicated().sum() \" nous n'obtenons que 126 doublons. Par ailleurs, la méthode \" .drop_duplicates() \" n'a supprimé que les 126 doublons et non tous les doublons des différentes colonnes. Nous pouvons considérer que ce que nous pensions être des doublons au départ ne l'étaient pas et que drop.duplicates() supprime les lignes identiques."
   ]
  },
  {
   "cell_type": "code",
   "execution_count": 46,
   "id": "ff5baad8-7a26-43a6-bbd2-60f2d7215f7e",
   "metadata": {},
   "outputs": [
    {
     "data": {
      "text/html": [
       "<div>\n",
       "<style scoped>\n",
       "    .dataframe tbody tr th:only-of-type {\n",
       "        vertical-align: middle;\n",
       "    }\n",
       "\n",
       "    .dataframe tbody tr th {\n",
       "        vertical-align: top;\n",
       "    }\n",
       "\n",
       "    .dataframe thead th {\n",
       "        text-align: right;\n",
       "    }\n",
       "</style>\n",
       "<table border=\"1\" class=\"dataframe\">\n",
       "  <thead>\n",
       "    <tr style=\"text-align: right;\">\n",
       "      <th></th>\n",
       "      <th>id_prod</th>\n",
       "      <th>price</th>\n",
       "      <th>categ</th>\n",
       "    </tr>\n",
       "  </thead>\n",
       "  <tbody>\n",
       "    <tr>\n",
       "      <th>0</th>\n",
       "      <td>0_1421</td>\n",
       "      <td>19.99</td>\n",
       "      <td>0</td>\n",
       "    </tr>\n",
       "    <tr>\n",
       "      <th>1</th>\n",
       "      <td>0_1368</td>\n",
       "      <td>5.13</td>\n",
       "      <td>0</td>\n",
       "    </tr>\n",
       "    <tr>\n",
       "      <th>2</th>\n",
       "      <td>0_731</td>\n",
       "      <td>17.99</td>\n",
       "      <td>0</td>\n",
       "    </tr>\n",
       "    <tr>\n",
       "      <th>3</th>\n",
       "      <td>1_587</td>\n",
       "      <td>4.99</td>\n",
       "      <td>1</td>\n",
       "    </tr>\n",
       "    <tr>\n",
       "      <th>4</th>\n",
       "      <td>0_1507</td>\n",
       "      <td>3.99</td>\n",
       "      <td>0</td>\n",
       "    </tr>\n",
       "  </tbody>\n",
       "</table>\n",
       "</div>"
      ],
      "text/plain": [
       "  id_prod  price  categ\n",
       "0  0_1421  19.99      0\n",
       "1  0_1368   5.13      0\n",
       "2   0_731  17.99      0\n",
       "3   1_587   4.99      1\n",
       "4  0_1507   3.99      0"
      ]
     },
     "execution_count": 46,
     "metadata": {},
     "output_type": "execute_result"
    }
   ],
   "source": [
    "# analyse df_produits\n",
    "df_produits.head()"
   ]
  },
  {
   "cell_type": "code",
   "execution_count": 47,
   "id": "11f57e1d-6e58-4ac5-9fa2-9b20263d17f4",
   "metadata": {},
   "outputs": [
    {
     "name": "stdout",
     "output_type": "stream",
     "text": [
      "<class 'pandas.core.frame.DataFrame'>\n",
      "RangeIndex: 3287 entries, 0 to 3286\n",
      "Data columns (total 3 columns):\n",
      " #   Column   Non-Null Count  Dtype  \n",
      "---  ------   --------------  -----  \n",
      " 0   id_prod  3287 non-null   object \n",
      " 1   price    3287 non-null   float64\n",
      " 2   categ    3287 non-null   int64  \n",
      "dtypes: float64(1), int64(1), object(1)\n",
      "memory usage: 77.2+ KB\n"
     ]
    }
   ],
   "source": [
    "df_produits.info()"
   ]
  },
  {
   "cell_type": "code",
   "execution_count": 48,
   "id": "77d856be-d81b-4ab2-bd66-dceee4a2cff6",
   "metadata": {},
   "outputs": [
    {
     "data": {
      "text/plain": [
       "id_prod    0\n",
       "price      0\n",
       "categ      0\n",
       "dtype: int64"
      ]
     },
     "execution_count": 48,
     "metadata": {},
     "output_type": "execute_result"
    }
   ],
   "source": [
    "df_produits.isnull().sum()"
   ]
  },
  {
   "cell_type": "code",
   "execution_count": 50,
   "id": "6beacfdd-b095-400a-b2e1-55c16336482a",
   "metadata": {},
   "outputs": [
    {
     "data": {
      "text/plain": [
       "False    3287\n",
       "dtype: int64"
      ]
     },
     "execution_count": 50,
     "metadata": {},
     "output_type": "execute_result"
    }
   ],
   "source": [
    "df_produits.duplicated().value_counts()"
   ]
  },
  {
   "cell_type": "code",
   "execution_count": 64,
   "id": "e280a6de-240b-48bd-b063-14a7c22a66cb",
   "metadata": {},
   "outputs": [
    {
     "data": {
      "text/html": [
       "<div>\n",
       "<style scoped>\n",
       "    .dataframe tbody tr th:only-of-type {\n",
       "        vertical-align: middle;\n",
       "    }\n",
       "\n",
       "    .dataframe tbody tr th {\n",
       "        vertical-align: top;\n",
       "    }\n",
       "\n",
       "    .dataframe thead th {\n",
       "        text-align: right;\n",
       "    }\n",
       "</style>\n",
       "<table border=\"1\" class=\"dataframe\">\n",
       "  <thead>\n",
       "    <tr style=\"text-align: right;\">\n",
       "      <th></th>\n",
       "      <th>id_prod</th>\n",
       "      <th>price</th>\n",
       "      <th>categ</th>\n",
       "    </tr>\n",
       "  </thead>\n",
       "  <tbody>\n",
       "    <tr>\n",
       "      <th>731</th>\n",
       "      <td>T_0</td>\n",
       "      <td>-1.0</td>\n",
       "      <td>0</td>\n",
       "    </tr>\n",
       "  </tbody>\n",
       "</table>\n",
       "</div>"
      ],
      "text/plain": [
       "    id_prod  price  categ\n",
       "731     T_0   -1.0      0"
      ]
     },
     "execution_count": 64,
     "metadata": {},
     "output_type": "execute_result"
    }
   ],
   "source": [
    "df_produits.loc[df_produits['price'] < 0 ]"
   ]
  },
  {
   "cell_type": "code",
   "execution_count": 91,
   "id": "86776fea-177a-48c4-8a15-99cfbcce24fc",
   "metadata": {},
   "outputs": [
    {
     "data": {
      "text/html": [
       "<div>\n",
       "<style scoped>\n",
       "    .dataframe tbody tr th:only-of-type {\n",
       "        vertical-align: middle;\n",
       "    }\n",
       "\n",
       "    .dataframe tbody tr th {\n",
       "        vertical-align: top;\n",
       "    }\n",
       "\n",
       "    .dataframe thead th {\n",
       "        text-align: right;\n",
       "    }\n",
       "</style>\n",
       "<table border=\"1\" class=\"dataframe\">\n",
       "  <thead>\n",
       "    <tr style=\"text-align: right;\">\n",
       "      <th></th>\n",
       "      <th>id_prod</th>\n",
       "      <th>price</th>\n",
       "      <th>categ</th>\n",
       "    </tr>\n",
       "  </thead>\n",
       "  <tbody>\n",
       "    <tr>\n",
       "      <th>145</th>\n",
       "      <td>0_1203</td>\n",
       "      <td>0.99</td>\n",
       "      <td>0</td>\n",
       "    </tr>\n",
       "    <tr>\n",
       "      <th>370</th>\n",
       "      <td>0_120</td>\n",
       "      <td>0.66</td>\n",
       "      <td>0</td>\n",
       "    </tr>\n",
       "    <tr>\n",
       "      <th>686</th>\n",
       "      <td>0_2138</td>\n",
       "      <td>0.93</td>\n",
       "      <td>0</td>\n",
       "    </tr>\n",
       "    <tr>\n",
       "      <th>731</th>\n",
       "      <td>T_0</td>\n",
       "      <td>-1.00</td>\n",
       "      <td>0</td>\n",
       "    </tr>\n",
       "    <tr>\n",
       "      <th>801</th>\n",
       "      <td>0_2166</td>\n",
       "      <td>0.97</td>\n",
       "      <td>0</td>\n",
       "    </tr>\n",
       "    <tr>\n",
       "      <th>848</th>\n",
       "      <td>0_180</td>\n",
       "      <td>0.97</td>\n",
       "      <td>0</td>\n",
       "    </tr>\n",
       "    <tr>\n",
       "      <th>946</th>\n",
       "      <td>0_2169</td>\n",
       "      <td>0.99</td>\n",
       "      <td>0</td>\n",
       "    </tr>\n",
       "    <tr>\n",
       "      <th>985</th>\n",
       "      <td>0_2275</td>\n",
       "      <td>0.99</td>\n",
       "      <td>0</td>\n",
       "    </tr>\n",
       "    <tr>\n",
       "      <th>991</th>\n",
       "      <td>0_1329</td>\n",
       "      <td>0.99</td>\n",
       "      <td>0</td>\n",
       "    </tr>\n",
       "    <tr>\n",
       "      <th>1211</th>\n",
       "      <td>0_1844</td>\n",
       "      <td>0.77</td>\n",
       "      <td>0</td>\n",
       "    </tr>\n",
       "    <tr>\n",
       "      <th>1530</th>\n",
       "      <td>0_1620</td>\n",
       "      <td>0.80</td>\n",
       "      <td>0</td>\n",
       "    </tr>\n",
       "    <tr>\n",
       "      <th>1784</th>\n",
       "      <td>0_1771</td>\n",
       "      <td>0.99</td>\n",
       "      <td>0</td>\n",
       "    </tr>\n",
       "    <tr>\n",
       "      <th>1911</th>\n",
       "      <td>0_1539</td>\n",
       "      <td>0.99</td>\n",
       "      <td>0</td>\n",
       "    </tr>\n",
       "    <tr>\n",
       "      <th>1973</th>\n",
       "      <td>0_91</td>\n",
       "      <td>0.99</td>\n",
       "      <td>0</td>\n",
       "    </tr>\n",
       "    <tr>\n",
       "      <th>2018</th>\n",
       "      <td>0_1759</td>\n",
       "      <td>0.99</td>\n",
       "      <td>0</td>\n",
       "    </tr>\n",
       "    <tr>\n",
       "      <th>2240</th>\n",
       "      <td>0_643</td>\n",
       "      <td>0.99</td>\n",
       "      <td>0</td>\n",
       "    </tr>\n",
       "    <tr>\n",
       "      <th>2272</th>\n",
       "      <td>0_528</td>\n",
       "      <td>0.62</td>\n",
       "      <td>0</td>\n",
       "    </tr>\n",
       "    <tr>\n",
       "      <th>2302</th>\n",
       "      <td>0_1364</td>\n",
       "      <td>0.81</td>\n",
       "      <td>0</td>\n",
       "    </tr>\n",
       "    <tr>\n",
       "      <th>2355</th>\n",
       "      <td>0_202</td>\n",
       "      <td>0.62</td>\n",
       "      <td>0</td>\n",
       "    </tr>\n",
       "    <tr>\n",
       "      <th>2412</th>\n",
       "      <td>0_1459</td>\n",
       "      <td>0.99</td>\n",
       "      <td>0</td>\n",
       "    </tr>\n",
       "    <tr>\n",
       "      <th>2425</th>\n",
       "      <td>0_612</td>\n",
       "      <td>0.88</td>\n",
       "      <td>0</td>\n",
       "    </tr>\n",
       "    <tr>\n",
       "      <th>2532</th>\n",
       "      <td>0_1653</td>\n",
       "      <td>0.99</td>\n",
       "      <td>0</td>\n",
       "    </tr>\n",
       "    <tr>\n",
       "      <th>2597</th>\n",
       "      <td>0_1511</td>\n",
       "      <td>0.99</td>\n",
       "      <td>0</td>\n",
       "    </tr>\n",
       "    <tr>\n",
       "      <th>2618</th>\n",
       "      <td>0_1935</td>\n",
       "      <td>0.99</td>\n",
       "      <td>0</td>\n",
       "    </tr>\n",
       "    <tr>\n",
       "      <th>2735</th>\n",
       "      <td>0_1283</td>\n",
       "      <td>0.99</td>\n",
       "      <td>0</td>\n",
       "    </tr>\n",
       "    <tr>\n",
       "      <th>2751</th>\n",
       "      <td>0_1552</td>\n",
       "      <td>0.98</td>\n",
       "      <td>0</td>\n",
       "    </tr>\n",
       "    <tr>\n",
       "      <th>2763</th>\n",
       "      <td>0_1651</td>\n",
       "      <td>0.99</td>\n",
       "      <td>0</td>\n",
       "    </tr>\n",
       "    <tr>\n",
       "      <th>2772</th>\n",
       "      <td>0_902</td>\n",
       "      <td>0.92</td>\n",
       "      <td>0</td>\n",
       "    </tr>\n",
       "    <tr>\n",
       "      <th>2889</th>\n",
       "      <td>0_1191</td>\n",
       "      <td>0.99</td>\n",
       "      <td>0</td>\n",
       "    </tr>\n",
       "    <tr>\n",
       "      <th>3109</th>\n",
       "      <td>0_1171</td>\n",
       "      <td>0.99</td>\n",
       "      <td>0</td>\n",
       "    </tr>\n",
       "  </tbody>\n",
       "</table>\n",
       "</div>"
      ],
      "text/plain": [
       "     id_prod  price  categ\n",
       "145   0_1203   0.99      0\n",
       "370    0_120   0.66      0\n",
       "686   0_2138   0.93      0\n",
       "731      T_0  -1.00      0\n",
       "801   0_2166   0.97      0\n",
       "848    0_180   0.97      0\n",
       "946   0_2169   0.99      0\n",
       "985   0_2275   0.99      0\n",
       "991   0_1329   0.99      0\n",
       "1211  0_1844   0.77      0\n",
       "1530  0_1620   0.80      0\n",
       "1784  0_1771   0.99      0\n",
       "1911  0_1539   0.99      0\n",
       "1973    0_91   0.99      0\n",
       "2018  0_1759   0.99      0\n",
       "2240   0_643   0.99      0\n",
       "2272   0_528   0.62      0\n",
       "2302  0_1364   0.81      0\n",
       "2355   0_202   0.62      0\n",
       "2412  0_1459   0.99      0\n",
       "2425   0_612   0.88      0\n",
       "2532  0_1653   0.99      0\n",
       "2597  0_1511   0.99      0\n",
       "2618  0_1935   0.99      0\n",
       "2735  0_1283   0.99      0\n",
       "2751  0_1552   0.98      0\n",
       "2763  0_1651   0.99      0\n",
       "2772   0_902   0.92      0\n",
       "2889  0_1191   0.99      0\n",
       "3109  0_1171   0.99      0"
      ]
     },
     "execution_count": 91,
     "metadata": {},
     "output_type": "execute_result"
    }
   ],
   "source": [
    "df_produits.loc[df_produits['price'] < 1 ]"
   ]
  },
  {
   "cell_type": "code",
   "execution_count": 93,
   "id": "b86575e0-3a91-4aaa-bb4d-664ca0c46f3e",
   "metadata": {},
   "outputs": [
    {
     "data": {
      "text/plain": [
       "300.0"
      ]
     },
     "execution_count": 93,
     "metadata": {},
     "output_type": "execute_result"
    }
   ],
   "source": [
    "df_produits.price.max()"
   ]
  },
  {
   "cell_type": "code",
   "execution_count": 94,
   "id": "ef837abc-1ce5-4e0d-b688-d0d121fa7de6",
   "metadata": {},
   "outputs": [
    {
     "data": {
      "text/plain": [
       "array([0, 1, 2], dtype=int64)"
      ]
     },
     "execution_count": 94,
     "metadata": {},
     "output_type": "execute_result"
    }
   ],
   "source": [
    "df_produits.categ.unique()"
   ]
  },
  {
   "cell_type": "markdown",
   "id": "837348ab-a4bf-4241-9d92-d1e55eac012d",
   "metadata": {},
   "source": [
    "Nous pouvons voir que nous avons des prix très bas < à 1. Voyons si ces valeurs sont aberrantes ou non."
   ]
  },
  {
   "cell_type": "code",
   "execution_count": 96,
   "id": "bf962d2d-8721-49e1-997c-7b2d3bf31742",
   "metadata": {},
   "outputs": [
    {
     "data": {
      "text/plain": [
       "<AxesSubplot:>"
      ]
     },
     "execution_count": 96,
     "metadata": {},
     "output_type": "execute_result"
    },
    {
     "data": {
      "image/png": "[encoded data removed]",
      "text/plain": [
       "<Figure size 432x288 with 1 Axes>"
      ]
     },
     "metadata": {
      "needs_background": "light"
     },
     "output_type": "display_data"
    }
   ],
   "source": [
    "df_produits[['price']].boxplot()"
   ]
  },
  {
   "cell_type": "code",
   "execution_count": 98,
   "id": "cc5198ff-a25d-42ef-92b2-166fcd126735",
   "metadata": {},
   "outputs": [
    {
     "data": {
      "text/plain": [
       "count    3287.000000\n",
       "mean       21.856641\n",
       "std        29.847908\n",
       "min        -1.000000\n",
       "25%         6.990000\n",
       "50%        13.060000\n",
       "75%        22.990000\n",
       "max       300.000000\n",
       "Name: price, dtype: float64"
      ]
     },
     "execution_count": 98,
     "metadata": {},
     "output_type": "execute_result"
    }
   ],
   "source": [
    "df_produits.price.describe()"
   ]
  },
  {
   "cell_type": "markdown",
   "id": "12b3d688-16b0-4b29-b247-32bc85cdbfbe",
   "metadata": {},
   "source": [
    "Il n'y a pas de doublons ni de case vide dans ce dataframe. Cependant nous constatons la présence de valeurs aberrantes. En effet, la médiane 13.06 est très éloignée de la moyenne 21.86 .\n",
    "\n",
    "L'écart-type est égale à 29.85 . Le coefficient de variation est égale à 1.36 (écart-type / moyenne). On peut donc en conclure que les valeurs sont très hétérogènes et très dispersées entre le min -1 et le max 300.\n",
    "\n",
    "Notre boîte à moustache nous permet de présenter graphiquement les valeurs des équartiles : 25% des prix sont compris entre 0 et 6.99, 25% entre 6.99 et 13.06, 25% entre 13.06 et 22.99 et 25% entre 22.99 et environ 48. Les losanges représentent les valeurs extrêmes qui varient entre 48 et le max 300."
   ]
  },
  {
   "cell_type": "code",
   "execution_count": 102,
   "id": "51f974bc-5d9b-452e-8dcd-6b5381315337",
   "metadata": {},
   "outputs": [
    {
     "data": {
      "text/html": [
       "<div>\n",
       "<style scoped>\n",
       "    .dataframe tbody tr th:only-of-type {\n",
       "        vertical-align: middle;\n",
       "    }\n",
       "\n",
       "    .dataframe tbody tr th {\n",
       "        vertical-align: top;\n",
       "    }\n",
       "\n",
       "    .dataframe thead th {\n",
       "        text-align: right;\n",
       "    }\n",
       "</style>\n",
       "<table border=\"1\" class=\"dataframe\">\n",
       "  <thead>\n",
       "    <tr style=\"text-align: right;\">\n",
       "      <th></th>\n",
       "      <th>id_prod</th>\n",
       "      <th>price</th>\n",
       "      <th>categ</th>\n",
       "    </tr>\n",
       "  </thead>\n",
       "  <tbody>\n",
       "    <tr>\n",
       "      <th>10</th>\n",
       "      <td>2_228</td>\n",
       "      <td>225.17</td>\n",
       "      <td>2</td>\n",
       "    </tr>\n",
       "    <tr>\n",
       "      <th>11</th>\n",
       "      <td>1_178</td>\n",
       "      <td>51.92</td>\n",
       "      <td>1</td>\n",
       "    </tr>\n",
       "    <tr>\n",
       "      <th>38</th>\n",
       "      <td>2_100</td>\n",
       "      <td>72.11</td>\n",
       "      <td>2</td>\n",
       "    </tr>\n",
       "    <tr>\n",
       "      <th>64</th>\n",
       "      <td>2_89</td>\n",
       "      <td>107.99</td>\n",
       "      <td>2</td>\n",
       "    </tr>\n",
       "    <tr>\n",
       "      <th>73</th>\n",
       "      <td>2_225</td>\n",
       "      <td>157.99</td>\n",
       "      <td>2</td>\n",
       "    </tr>\n",
       "    <tr>\n",
       "      <th>...</th>\n",
       "      <td>...</td>\n",
       "      <td>...</td>\n",
       "      <td>...</td>\n",
       "    </tr>\n",
       "    <tr>\n",
       "      <th>3267</th>\n",
       "      <td>2_101</td>\n",
       "      <td>63.99</td>\n",
       "      <td>2</td>\n",
       "    </tr>\n",
       "    <tr>\n",
       "      <th>3269</th>\n",
       "      <td>1_543</td>\n",
       "      <td>51.99</td>\n",
       "      <td>1</td>\n",
       "    </tr>\n",
       "    <tr>\n",
       "      <th>3271</th>\n",
       "      <td>2_123</td>\n",
       "      <td>147.99</td>\n",
       "      <td>2</td>\n",
       "    </tr>\n",
       "    <tr>\n",
       "      <th>3279</th>\n",
       "      <td>1_331</td>\n",
       "      <td>55.99</td>\n",
       "      <td>1</td>\n",
       "    </tr>\n",
       "    <tr>\n",
       "      <th>3282</th>\n",
       "      <td>2_23</td>\n",
       "      <td>115.99</td>\n",
       "      <td>2</td>\n",
       "    </tr>\n",
       "  </tbody>\n",
       "</table>\n",
       "<p>273 rows × 3 columns</p>\n",
       "</div>"
      ],
      "text/plain": [
       "     id_prod   price  categ\n",
       "10     2_228  225.17      2\n",
       "11     1_178   51.92      1\n",
       "38     2_100   72.11      2\n",
       "64      2_89  107.99      2\n",
       "73     2_225  157.99      2\n",
       "...      ...     ...    ...\n",
       "3267   2_101   63.99      2\n",
       "3269   1_543   51.99      1\n",
       "3271   2_123  147.99      2\n",
       "3279   1_331   55.99      1\n",
       "3282    2_23  115.99      2\n",
       "\n",
       "[273 rows x 3 columns]"
      ]
     },
     "execution_count": 102,
     "metadata": {},
     "output_type": "execute_result"
    }
   ],
   "source": [
    "# Quantité de produits qui ont un prix > 50\n",
    "df_produits.loc[df_produits['price'] > 50 ]"
   ]
  },
  {
   "cell_type": "code",
   "execution_count": 103,
   "id": "417ee9bb-3e57-4cce-af66-ac31d303ef26",
   "metadata": {},
   "outputs": [
    {
     "data": {
      "text/html": [
       "<div>\n",
       "<style scoped>\n",
       "    .dataframe tbody tr th:only-of-type {\n",
       "        vertical-align: middle;\n",
       "    }\n",
       "\n",
       "    .dataframe tbody tr th {\n",
       "        vertical-align: top;\n",
       "    }\n",
       "\n",
       "    .dataframe thead th {\n",
       "        text-align: right;\n",
       "    }\n",
       "</style>\n",
       "<table border=\"1\" class=\"dataframe\">\n",
       "  <thead>\n",
       "    <tr style=\"text-align: right;\">\n",
       "      <th></th>\n",
       "      <th>id_prod</th>\n",
       "      <th>price</th>\n",
       "      <th>categ</th>\n",
       "    </tr>\n",
       "  </thead>\n",
       "  <tbody>\n",
       "    <tr>\n",
       "      <th>0</th>\n",
       "      <td>0_1421</td>\n",
       "      <td>19.99</td>\n",
       "      <td>0</td>\n",
       "    </tr>\n",
       "    <tr>\n",
       "      <th>1</th>\n",
       "      <td>0_1368</td>\n",
       "      <td>5.13</td>\n",
       "      <td>0</td>\n",
       "    </tr>\n",
       "    <tr>\n",
       "      <th>2</th>\n",
       "      <td>0_731</td>\n",
       "      <td>17.99</td>\n",
       "      <td>0</td>\n",
       "    </tr>\n",
       "    <tr>\n",
       "      <th>3</th>\n",
       "      <td>1_587</td>\n",
       "      <td>4.99</td>\n",
       "      <td>1</td>\n",
       "    </tr>\n",
       "    <tr>\n",
       "      <th>4</th>\n",
       "      <td>0_1507</td>\n",
       "      <td>3.99</td>\n",
       "      <td>0</td>\n",
       "    </tr>\n",
       "    <tr>\n",
       "      <th>...</th>\n",
       "      <td>...</td>\n",
       "      <td>...</td>\n",
       "      <td>...</td>\n",
       "    </tr>\n",
       "    <tr>\n",
       "      <th>3281</th>\n",
       "      <td>0_607</td>\n",
       "      <td>14.99</td>\n",
       "      <td>0</td>\n",
       "    </tr>\n",
       "    <tr>\n",
       "      <th>3283</th>\n",
       "      <td>0_146</td>\n",
       "      <td>17.14</td>\n",
       "      <td>0</td>\n",
       "    </tr>\n",
       "    <tr>\n",
       "      <th>3284</th>\n",
       "      <td>0_802</td>\n",
       "      <td>11.22</td>\n",
       "      <td>0</td>\n",
       "    </tr>\n",
       "    <tr>\n",
       "      <th>3285</th>\n",
       "      <td>1_140</td>\n",
       "      <td>38.56</td>\n",
       "      <td>1</td>\n",
       "    </tr>\n",
       "    <tr>\n",
       "      <th>3286</th>\n",
       "      <td>0_1920</td>\n",
       "      <td>25.16</td>\n",
       "      <td>0</td>\n",
       "    </tr>\n",
       "  </tbody>\n",
       "</table>\n",
       "<p>3014 rows × 3 columns</p>\n",
       "</div>"
      ],
      "text/plain": [
       "     id_prod  price  categ\n",
       "0     0_1421  19.99      0\n",
       "1     0_1368   5.13      0\n",
       "2      0_731  17.99      0\n",
       "3      1_587   4.99      1\n",
       "4     0_1507   3.99      0\n",
       "...      ...    ...    ...\n",
       "3281   0_607  14.99      0\n",
       "3283   0_146  17.14      0\n",
       "3284   0_802  11.22      0\n",
       "3285   1_140  38.56      1\n",
       "3286  0_1920  25.16      0\n",
       "\n",
       "[3014 rows x 3 columns]"
      ]
     },
     "execution_count": 103,
     "metadata": {},
     "output_type": "execute_result"
    }
   ],
   "source": [
    "# Quantité de produits ayant un prix < 50\n",
    "df_produits.loc[df_produits['price'] < 50 ]"
   ]
  },
  {
   "cell_type": "markdown",
   "id": "a50629b0-fca4-4579-8a08-bf424e52c2c2",
   "metadata": {},
   "source": [
    "Nous devrions donc supprimer les données aberrantes ( > 50) ainsi que le prix qui est égale à -1. Mais ces prix > 50 sont-ils vraiment si aberrantes ?\n",
    "C'est possible qu'il y ait des livres anciens ou autres qui valent une petite fortunes, donc nous allons garder ses valeurs >50 et supprimer uniquement le prix -1."
   ]
  },
  {
   "cell_type": "code",
   "execution_count": 104,
   "id": "48c779e3-1df8-4ecb-9ac9-ae24e51f2e12",
   "metadata": {},
   "outputs": [
    {
     "data": {
      "text/plain": [
       "-1.0"
      ]
     },
     "execution_count": 104,
     "metadata": {},
     "output_type": "execute_result"
    }
   ],
   "source": [
    "df_produits['price'].min()"
   ]
  },
  {
   "cell_type": "code",
   "execution_count": 106,
   "id": "51e3a147-84da-4bc8-86cd-e985ade2371b",
   "metadata": {},
   "outputs": [
    {
     "data": {
      "text/plain": [
       "731"
      ]
     },
     "execution_count": 106,
     "metadata": {},
     "output_type": "execute_result"
    }
   ],
   "source": [
    "valeur_fausse = df_produits['price'].argmin()\n",
    "valeur_fausse"
   ]
  },
  {
   "cell_type": "code",
   "execution_count": 107,
   "id": "dab0e94b-2139-4d40-b817-2f7e736c02ff",
   "metadata": {},
   "outputs": [],
   "source": [
    "df_produits = df_produits.drop(valeur_fausse).reset_index(drop=True) "
   ]
  },
  {
   "cell_type": "code",
   "execution_count": 108,
   "id": "7f22a97f-351f-43ab-90a7-b66f19524f40",
   "metadata": {},
   "outputs": [
    {
     "data": {
      "text/plain": [
       "0.62"
      ]
     },
     "execution_count": 108,
     "metadata": {},
     "output_type": "execute_result"
    }
   ],
   "source": [
    "df_produits['price'].min()"
   ]
  },
  {
   "cell_type": "code",
   "execution_count": 109,
   "id": "39aad73e-0623-4476-ae8e-ede14b0af9b6",
   "metadata": {},
   "outputs": [
    {
     "data": {
      "text/plain": [
       "<AxesSubplot:>"
      ]
     },
     "execution_count": 109,
     "metadata": {},
     "output_type": "execute_result"
    },
    {
     "data": {
      "image/png": "[encoded data removed]",
      "text/plain": [
       "<Figure size 432x288 with 1 Axes>"
      ]
     },
     "metadata": {
      "needs_background": "light"
     },
     "output_type": "display_data"
    }
   ],
   "source": [
    "df_produits[['price']].boxplot()"
   ]
  },
  {
   "cell_type": "markdown",
   "id": "413d1d2d-52d0-4855-b9f6-d2625c9945b1",
   "metadata": {},
   "source": [
    " "
   ]
  },
  {
   "cell_type": "markdown",
   "id": "6a05f597-7e0c-427c-b475-c7f406b4547d",
   "metadata": {},
   "source": [
    "Nous voilà donc en présence de 3 dataframe : df_clients, df_ventes_final et df_produits tout propres pour une analyse."
   ]
  },
  {
   "cell_type": "markdown",
   "id": "cfa972b2-598d-4390-94e7-3a37c0f38474",
   "metadata": {},
   "source": [
    " "
   ]
  },
  {
   "cell_type": "markdown",
   "id": "e5af6324-b6e7-41fd-854b-9b73f619c92b",
   "metadata": {},
   "source": [
    "## Mission n° 2 : Analyse des données"
   ]
  },
  {
   "cell_type": "markdown",
   "id": "4cf4ef01-632a-46d1-855a-cc1eba5339f8",
   "metadata": {},
   "source": [
    "*Une grande liberté vous est laissée sur ce plan, mais à vous de trouver les informations qui ont du sens pour mieux comprendre les ventes.*"
   ]
  },
  {
   "cell_type": "markdown",
   "id": "b842e4d1-4568-41d3-83aa-a4f40c77042e",
   "metadata": {},
   "source": [
    " "
   ]
  },
  {
   "cell_type": "markdown",
   "id": "8c8cbe34-ca45-4622-aaf6-956a90d79e9b",
   "metadata": {},
   "source": [
    "### Liaison des dataframes"
   ]
  },
  {
   "cell_type": "code",
   "execution_count": 124,
   "id": "0c2995b9-702b-4bb0-9e08-dd4981c0994a",
   "metadata": {},
   "outputs": [
    {
     "name": "stdout",
     "output_type": "stream",
     "text": [
      "<class 'pandas.core.frame.DataFrame'>\n",
      "Int64Index: 336890 entries, 0 to 337015\n",
      "Data columns (total 4 columns):\n",
      " #   Column      Non-Null Count   Dtype \n",
      "---  ------      --------------   ----- \n",
      " 0   id_prod     336890 non-null  object\n",
      " 1   date        336890 non-null  object\n",
      " 2   session_id  336890 non-null  object\n",
      " 3   client_id   336890 non-null  object\n",
      "dtypes: object(4)\n",
      "memory usage: 12.9+ MB\n"
     ]
    }
   ],
   "source": [
    "df_ventes_final.info()"
   ]
  },
  {
   "cell_type": "code",
   "execution_count": 123,
   "id": "9a9a518d-7644-4aea-9712-c5b52ccdda14",
   "metadata": {},
   "outputs": [
    {
     "name": "stdout",
     "output_type": "stream",
     "text": [
      "<class 'pandas.core.frame.DataFrame'>\n",
      "RangeIndex: 8623 entries, 0 to 8622\n",
      "Data columns (total 3 columns):\n",
      " #   Column     Non-Null Count  Dtype \n",
      "---  ------     --------------  ----- \n",
      " 0   client_id  8623 non-null   object\n",
      " 1   sex        8623 non-null   object\n",
      " 2   birth      8623 non-null   int64 \n",
      "dtypes: int64(1), object(2)\n",
      "memory usage: 202.2+ KB\n"
     ]
    }
   ],
   "source": [
    "df_clients.info()"
   ]
  },
  {
   "cell_type": "code",
   "execution_count": 122,
   "id": "91f435cc-12cc-41c3-8bc8-6c1edf441dfe",
   "metadata": {},
   "outputs": [
    {
     "name": "stdout",
     "output_type": "stream",
     "text": [
      "<class 'pandas.core.frame.DataFrame'>\n",
      "RangeIndex: 3286 entries, 0 to 3285\n",
      "Data columns (total 3 columns):\n",
      " #   Column   Non-Null Count  Dtype  \n",
      "---  ------   --------------  -----  \n",
      " 0   id_prod  3286 non-null   object \n",
      " 1   price    3286 non-null   float64\n",
      " 2   categ    3286 non-null   int64  \n",
      "dtypes: float64(1), int64(1), object(1)\n",
      "memory usage: 77.1+ KB\n"
     ]
    }
   ],
   "source": [
    "df_produits.info()"
   ]
  },
  {
   "cell_type": "code",
   "execution_count": 112,
   "id": "aa0b6dd6-70da-4251-85d3-4ee6cd7f5114",
   "metadata": {},
   "outputs": [
    {
     "data": {
      "text/html": [
       "<div>\n",
       "<style scoped>\n",
       "    .dataframe tbody tr th:only-of-type {\n",
       "        vertical-align: middle;\n",
       "    }\n",
       "\n",
       "    .dataframe tbody tr th {\n",
       "        vertical-align: top;\n",
       "    }\n",
       "\n",
       "    .dataframe thead th {\n",
       "        text-align: right;\n",
       "    }\n",
       "</style>\n",
       "<table border=\"1\" class=\"dataframe\">\n",
       "  <thead>\n",
       "    <tr style=\"text-align: right;\">\n",
       "      <th></th>\n",
       "      <th>id_prod</th>\n",
       "      <th>price</th>\n",
       "      <th>categ</th>\n",
       "      <th>date</th>\n",
       "      <th>session_id</th>\n",
       "      <th>client_id</th>\n",
       "    </tr>\n",
       "  </thead>\n",
       "  <tbody>\n",
       "    <tr>\n",
       "      <th>0</th>\n",
       "      <td>0_1421</td>\n",
       "      <td>19.99</td>\n",
       "      <td>0</td>\n",
       "      <td>2021-05-12 23:26:29.885083</td>\n",
       "      <td>s_33709</td>\n",
       "      <td>c_7954</td>\n",
       "    </tr>\n",
       "    <tr>\n",
       "      <th>1</th>\n",
       "      <td>0_1421</td>\n",
       "      <td>19.99</td>\n",
       "      <td>0</td>\n",
       "      <td>2022-01-25 11:27:39.357012</td>\n",
       "      <td>s_154957</td>\n",
       "      <td>c_254</td>\n",
       "    </tr>\n",
       "    <tr>\n",
       "      <th>2</th>\n",
       "      <td>0_1421</td>\n",
       "      <td>19.99</td>\n",
       "      <td>0</td>\n",
       "      <td>2022-01-02 22:29:33.796003</td>\n",
       "      <td>s_144068</td>\n",
       "      <td>c_5770</td>\n",
       "    </tr>\n",
       "    <tr>\n",
       "      <th>3</th>\n",
       "      <td>0_1421</td>\n",
       "      <td>19.99</td>\n",
       "      <td>0</td>\n",
       "      <td>2021-03-05 17:10:40.265676</td>\n",
       "      <td>s_2187</td>\n",
       "      <td>c_1455</td>\n",
       "    </tr>\n",
       "    <tr>\n",
       "      <th>4</th>\n",
       "      <td>0_1421</td>\n",
       "      <td>19.99</td>\n",
       "      <td>0</td>\n",
       "      <td>2021-03-29 13:55:04.422637</td>\n",
       "      <td>s_13112</td>\n",
       "      <td>c_2768</td>\n",
       "    </tr>\n",
       "  </tbody>\n",
       "</table>\n",
       "</div>"
      ],
      "text/plain": [
       "  id_prod  price  categ                        date session_id client_id\n",
       "0  0_1421  19.99      0  2021-05-12 23:26:29.885083    s_33709    c_7954\n",
       "1  0_1421  19.99      0  2022-01-25 11:27:39.357012   s_154957     c_254\n",
       "2  0_1421  19.99      0  2022-01-02 22:29:33.796003   s_144068    c_5770\n",
       "3  0_1421  19.99      0  2021-03-05 17:10:40.265676     s_2187    c_1455\n",
       "4  0_1421  19.99      0  2021-03-29 13:55:04.422637    s_13112    c_2768"
      ]
     },
     "execution_count": 112,
     "metadata": {},
     "output_type": "execute_result"
    }
   ],
   "source": [
    "df_ventes_produits = df_produits.merge(df_ventes_final)\n",
    "df_ventes_produits.head()"
   ]
  },
  {
   "cell_type": "code",
   "execution_count": 113,
   "id": "88dd4bd3-9050-492d-b9ba-0bd005f9739a",
   "metadata": {},
   "outputs": [
    {
     "name": "stdout",
     "output_type": "stream",
     "text": [
      "<class 'pandas.core.frame.DataFrame'>\n",
      "Int64Index: 336713 entries, 0 to 336712\n",
      "Data columns (total 6 columns):\n",
      " #   Column      Non-Null Count   Dtype  \n",
      "---  ------      --------------   -----  \n",
      " 0   id_prod     336713 non-null  object \n",
      " 1   price       336713 non-null  float64\n",
      " 2   categ       336713 non-null  int64  \n",
      " 3   date        336713 non-null  object \n",
      " 4   session_id  336713 non-null  object \n",
      " 5   client_id   336713 non-null  object \n",
      "dtypes: float64(1), int64(1), object(4)\n",
      "memory usage: 18.0+ MB\n"
     ]
    }
   ],
   "source": [
    "df_ventes_produits.info()"
   ]
  },
  {
   "cell_type": "code",
   "execution_count": 120,
   "id": "062317e2-4a8d-47ae-a394-3cee542cf39d",
   "metadata": {},
   "outputs": [
    {
     "data": {
      "text/html": [
       "<div>\n",
       "<style scoped>\n",
       "    .dataframe tbody tr th:only-of-type {\n",
       "        vertical-align: middle;\n",
       "    }\n",
       "\n",
       "    .dataframe tbody tr th {\n",
       "        vertical-align: top;\n",
       "    }\n",
       "\n",
       "    .dataframe thead th {\n",
       "        text-align: right;\n",
       "    }\n",
       "</style>\n",
       "<table border=\"1\" class=\"dataframe\">\n",
       "  <thead>\n",
       "    <tr style=\"text-align: right;\">\n",
       "      <th></th>\n",
       "      <th>id_prod</th>\n",
       "      <th>price</th>\n",
       "      <th>categ</th>\n",
       "      <th>date</th>\n",
       "      <th>session_id</th>\n",
       "      <th>client_id</th>\n",
       "      <th>sex</th>\n",
       "      <th>birth</th>\n",
       "    </tr>\n",
       "  </thead>\n",
       "  <tbody>\n",
       "    <tr>\n",
       "      <th>0</th>\n",
       "      <td>0_1421</td>\n",
       "      <td>19.99</td>\n",
       "      <td>0</td>\n",
       "      <td>2021-05-12 23:26:29.885083</td>\n",
       "      <td>s_33709</td>\n",
       "      <td>c_7954</td>\n",
       "      <td>m</td>\n",
       "      <td>1973</td>\n",
       "    </tr>\n",
       "    <tr>\n",
       "      <th>1</th>\n",
       "      <td>0_1142</td>\n",
       "      <td>3.42</td>\n",
       "      <td>0</td>\n",
       "      <td>2021-03-24 00:54:59.507581</td>\n",
       "      <td>s_10590</td>\n",
       "      <td>c_7954</td>\n",
       "      <td>m</td>\n",
       "      <td>1973</td>\n",
       "    </tr>\n",
       "    <tr>\n",
       "      <th>2</th>\n",
       "      <td>0_1446</td>\n",
       "      <td>8.09</td>\n",
       "      <td>0</td>\n",
       "      <td>2021-11-26 18:04:33.019608</td>\n",
       "      <td>s_125461</td>\n",
       "      <td>c_7954</td>\n",
       "      <td>m</td>\n",
       "      <td>1973</td>\n",
       "    </tr>\n",
       "    <tr>\n",
       "      <th>3</th>\n",
       "      <td>0_2291</td>\n",
       "      <td>12.99</td>\n",
       "      <td>0</td>\n",
       "      <td>2021-05-29 18:25:02.094891</td>\n",
       "      <td>s_41299</td>\n",
       "      <td>c_7954</td>\n",
       "      <td>m</td>\n",
       "      <td>1973</td>\n",
       "    </tr>\n",
       "    <tr>\n",
       "      <th>4</th>\n",
       "      <td>1_385</td>\n",
       "      <td>25.99</td>\n",
       "      <td>1</td>\n",
       "      <td>2021-06-01 20:41:40.157683</td>\n",
       "      <td>s_42731</td>\n",
       "      <td>c_7954</td>\n",
       "      <td>m</td>\n",
       "      <td>1973</td>\n",
       "    </tr>\n",
       "  </tbody>\n",
       "</table>\n",
       "</div>"
      ],
      "text/plain": [
       "  id_prod  price  categ                        date session_id client_id sex  \\\n",
       "0  0_1421  19.99      0  2021-05-12 23:26:29.885083    s_33709    c_7954   m   \n",
       "1  0_1142   3.42      0  2021-03-24 00:54:59.507581    s_10590    c_7954   m   \n",
       "2  0_1446   8.09      0  2021-11-26 18:04:33.019608   s_125461    c_7954   m   \n",
       "3  0_2291  12.99      0  2021-05-29 18:25:02.094891    s_41299    c_7954   m   \n",
       "4   1_385  25.99      1  2021-06-01 20:41:40.157683    s_42731    c_7954   m   \n",
       "\n",
       "   birth  \n",
       "0   1973  \n",
       "1   1973  \n",
       "2   1973  \n",
       "3   1973  \n",
       "4   1973  "
      ]
     },
     "execution_count": 120,
     "metadata": {},
     "output_type": "execute_result"
    }
   ],
   "source": [
    "df_ventes_produits_clients = df_ventes_produits.merge(df_clients)\n",
    "df_ventes_produits_clients.head()"
   ]
  },
  {
   "cell_type": "code",
   "execution_count": 121,
   "id": "634471fd-2e3a-422e-a29b-2b5e5f421190",
   "metadata": {},
   "outputs": [
    {
     "name": "stdout",
     "output_type": "stream",
     "text": [
      "<class 'pandas.core.frame.DataFrame'>\n",
      "Int64Index: 336713 entries, 0 to 336712\n",
      "Data columns (total 8 columns):\n",
      " #   Column      Non-Null Count   Dtype  \n",
      "---  ------      --------------   -----  \n",
      " 0   id_prod     336713 non-null  object \n",
      " 1   price       336713 non-null  float64\n",
      " 2   categ       336713 non-null  int64  \n",
      " 3   date        336713 non-null  object \n",
      " 4   session_id  336713 non-null  object \n",
      " 5   client_id   336713 non-null  object \n",
      " 6   sex         336713 non-null  object \n",
      " 7   birth       336713 non-null  int64  \n",
      "dtypes: float64(1), int64(2), object(5)\n",
      "memory usage: 23.1+ MB\n"
     ]
    }
   ],
   "source": [
    "df_ventes_produits_clients.info()"
   ]
  },
  {
   "cell_type": "markdown",
   "id": "5b4c9d2d-e488-4eab-bece-bb4689d0d738",
   "metadata": {},
   "source": [
    " "
   ]
  },
  {
   "cell_type": "markdown",
   "id": "2aec5a71-e642-438d-9f55-4a3fd662953f",
   "metadata": {},
   "source": [
    "### Analyse de df_ventes_produits_clients"
   ]
  },
  {
   "cell_type": "markdown",
   "id": "3557c8d4-64d7-4988-9c57-9fdf9694f0e7",
   "metadata": {},
   "source": [
    "- Les indicateurs de tendance centrale et de dispersion :"
   ]
  },
  {
   "cell_type": "code",
   "execution_count": 127,
   "id": "9eafac4c-617f-4cbd-99ac-350d259348f7",
   "metadata": {},
   "outputs": [
    {
     "data": {
      "text/html": [
       "<div>\n",
       "<style scoped>\n",
       "    .dataframe tbody tr th:only-of-type {\n",
       "        vertical-align: middle;\n",
       "    }\n",
       "\n",
       "    .dataframe tbody tr th {\n",
       "        vertical-align: top;\n",
       "    }\n",
       "\n",
       "    .dataframe thead th {\n",
       "        text-align: right;\n",
       "    }\n",
       "</style>\n",
       "<table border=\"1\" class=\"dataframe\">\n",
       "  <thead>\n",
       "    <tr style=\"text-align: right;\">\n",
       "      <th></th>\n",
       "      <th>price</th>\n",
       "      <th>categ</th>\n",
       "      <th>birth</th>\n",
       "    </tr>\n",
       "  </thead>\n",
       "  <tbody>\n",
       "    <tr>\n",
       "      <th>count</th>\n",
       "      <td>336713.000000</td>\n",
       "      <td>336713.000000</td>\n",
       "      <td>336713.000000</td>\n",
       "    </tr>\n",
       "    <tr>\n",
       "      <th>mean</th>\n",
       "      <td>17.215189</td>\n",
       "      <td>0.430156</td>\n",
       "      <td>1977.823568</td>\n",
       "    </tr>\n",
       "    <tr>\n",
       "      <th>std</th>\n",
       "      <td>17.855445</td>\n",
       "      <td>0.591082</td>\n",
       "      <td>13.524433</td>\n",
       "    </tr>\n",
       "    <tr>\n",
       "      <th>min</th>\n",
       "      <td>0.620000</td>\n",
       "      <td>0.000000</td>\n",
       "      <td>1929.000000</td>\n",
       "    </tr>\n",
       "    <tr>\n",
       "      <th>25%</th>\n",
       "      <td>8.610000</td>\n",
       "      <td>0.000000</td>\n",
       "      <td>1971.000000</td>\n",
       "    </tr>\n",
       "    <tr>\n",
       "      <th>50%</th>\n",
       "      <td>13.900000</td>\n",
       "      <td>0.000000</td>\n",
       "      <td>1980.000000</td>\n",
       "    </tr>\n",
       "    <tr>\n",
       "      <th>75%</th>\n",
       "      <td>18.990000</td>\n",
       "      <td>1.000000</td>\n",
       "      <td>1987.000000</td>\n",
       "    </tr>\n",
       "    <tr>\n",
       "      <th>max</th>\n",
       "      <td>300.000000</td>\n",
       "      <td>2.000000</td>\n",
       "      <td>2004.000000</td>\n",
       "    </tr>\n",
       "  </tbody>\n",
       "</table>\n",
       "</div>"
      ],
      "text/plain": [
       "               price          categ          birth\n",
       "count  336713.000000  336713.000000  336713.000000\n",
       "mean       17.215189       0.430156    1977.823568\n",
       "std        17.855445       0.591082      13.524433\n",
       "min         0.620000       0.000000    1929.000000\n",
       "25%         8.610000       0.000000    1971.000000\n",
       "50%        13.900000       0.000000    1980.000000\n",
       "75%        18.990000       1.000000    1987.000000\n",
       "max       300.000000       2.000000    2004.000000"
      ]
     },
     "execution_count": 127,
     "metadata": {},
     "output_type": "execute_result"
    }
   ],
   "source": [
    "df_ventes_produits_clients.describe()"
   ]
  },
  {
   "cell_type": "code",
   "execution_count": 128,
   "id": "0180990e-d118-4c60-90f2-e378643c59ab",
   "metadata": {},
   "outputs": [
    {
     "data": {
      "text/plain": [
       "m    169198\n",
       "f    167515\n",
       "Name: sex, dtype: int64"
      ]
     },
     "execution_count": 128,
     "metadata": {},
     "output_type": "execute_result"
    }
   ],
   "source": [
    "df_ventes_produits_clients.sex.value_counts()"
   ]
  },
  {
   "cell_type": "code",
   "execution_count": 131,
   "id": "ad36e3e4-2e10-47a1-8098-22e786ac7d40",
   "metadata": {},
   "outputs": [
    {
     "data": {
      "text/plain": [
       "count    336713.000000\n",
       "mean         17.215189\n",
       "std          17.855445\n",
       "min           0.620000\n",
       "25%           8.610000\n",
       "50%          13.900000\n",
       "75%          18.990000\n",
       "max         300.000000\n",
       "Name: price, dtype: float64"
      ]
     },
     "execution_count": 131,
     "metadata": {},
     "output_type": "execute_result"
    }
   ],
   "source": [
    "df_ventes_produits_clients.price.describe()"
   ]
  },
  {
   "cell_type": "code",
   "execution_count": 133,
   "id": "1485a10b-e2a1-4bb1-83ce-5b709397b009",
   "metadata": {},
   "outputs": [
    {
     "data": {
      "text/plain": [
       "<AxesSubplot:>"
      ]
     },
     "execution_count": 133,
     "metadata": {},
     "output_type": "execute_result"
    },
    {
     "data": {
      "image/png": "[encoded data removed]",
      "text/plain": [
       "<Figure size 432x288 with 1 Axes>"
      ]
     },
     "metadata": {
      "needs_background": "light"
     },
     "output_type": "display_data"
    }
   ],
   "source": [
    "df_ventes_produits_clients[['price']].boxplot()"
   ]
  },
  {
   "cell_type": "markdown",
   "id": "a359c56e-98b1-4f8e-ac90-e41a37bbda3d",
   "metadata": {},
   "source": [
    "La médiane est de 13.90, et la moyenne 17.22 . La médiane étant assez éloignés de la moyenne, nous pouvons dire qu'il y a des valeurs extêmes dans notre dataframe.\n",
    "\n",
    "Le coefficient de variation nous donne un pourcentage de 104% (17.85/17.21). Ceci confirme la présence de nombreuses valeurs extrêmes dans notre df, et montre une très grande dispersions de nos données par rapport à la moyenne.\n",
    "\n",
    "25% des prix sont compris entre 0.62 et 8.61 ;\n",
    "25% \"     \"     \"      \"  entre 8.61 et 13.9 ;\n",
    "25% \"     \"     \"      \"  entre 13.9 et 19 ;\n",
    "25%  \"     \"     \"      \" entre 19 et 40.\n"
   ]
  },
  {
   "cell_type": "code",
   "execution_count": 162,
   "id": "e7e1e4ea-a6de-4c97-b032-168ae528d0bd",
   "metadata": {},
   "outputs": [
    {
     "data": {
      "text/html": [
       "<div>\n",
       "<style scoped>\n",
       "    .dataframe tbody tr th:only-of-type {\n",
       "        vertical-align: middle;\n",
       "    }\n",
       "\n",
       "    .dataframe tbody tr th {\n",
       "        vertical-align: top;\n",
       "    }\n",
       "\n",
       "    .dataframe thead th {\n",
       "        text-align: right;\n",
       "    }\n",
       "</style>\n",
       "<table border=\"1\" class=\"dataframe\">\n",
       "  <thead>\n",
       "    <tr style=\"text-align: right;\">\n",
       "      <th></th>\n",
       "      <th>id_prod</th>\n",
       "      <th>price</th>\n",
       "      <th>categ</th>\n",
       "      <th>date</th>\n",
       "      <th>session_id</th>\n",
       "      <th>client_id</th>\n",
       "      <th>sex</th>\n",
       "      <th>birth</th>\n",
       "    </tr>\n",
       "  </thead>\n",
       "  <tbody>\n",
       "    <tr>\n",
       "      <th>0</th>\n",
       "      <td>0_1421</td>\n",
       "      <td>19.99</td>\n",
       "      <td>0</td>\n",
       "      <td>2021-05-12 23:26:29.885083</td>\n",
       "      <td>s_33709</td>\n",
       "      <td>c_7954</td>\n",
       "      <td>m</td>\n",
       "      <td>1973</td>\n",
       "    </tr>\n",
       "    <tr>\n",
       "      <th>1</th>\n",
       "      <td>0_1142</td>\n",
       "      <td>3.42</td>\n",
       "      <td>0</td>\n",
       "      <td>2021-03-24 00:54:59.507581</td>\n",
       "      <td>s_10590</td>\n",
       "      <td>c_7954</td>\n",
       "      <td>m</td>\n",
       "      <td>1973</td>\n",
       "    </tr>\n",
       "    <tr>\n",
       "      <th>2</th>\n",
       "      <td>0_1446</td>\n",
       "      <td>8.09</td>\n",
       "      <td>0</td>\n",
       "      <td>2021-11-26 18:04:33.019608</td>\n",
       "      <td>s_125461</td>\n",
       "      <td>c_7954</td>\n",
       "      <td>m</td>\n",
       "      <td>1973</td>\n",
       "    </tr>\n",
       "    <tr>\n",
       "      <th>3</th>\n",
       "      <td>0_2291</td>\n",
       "      <td>12.99</td>\n",
       "      <td>0</td>\n",
       "      <td>2021-05-29 18:25:02.094891</td>\n",
       "      <td>s_41299</td>\n",
       "      <td>c_7954</td>\n",
       "      <td>m</td>\n",
       "      <td>1973</td>\n",
       "    </tr>\n",
       "    <tr>\n",
       "      <th>4</th>\n",
       "      <td>1_385</td>\n",
       "      <td>25.99</td>\n",
       "      <td>1</td>\n",
       "      <td>2021-06-01 20:41:40.157683</td>\n",
       "      <td>s_42731</td>\n",
       "      <td>c_7954</td>\n",
       "      <td>m</td>\n",
       "      <td>1973</td>\n",
       "    </tr>\n",
       "    <tr>\n",
       "      <th>...</th>\n",
       "      <td>...</td>\n",
       "      <td>...</td>\n",
       "      <td>...</td>\n",
       "      <td>...</td>\n",
       "      <td>...</td>\n",
       "      <td>...</td>\n",
       "      <td>...</td>\n",
       "      <td>...</td>\n",
       "    </tr>\n",
       "    <tr>\n",
       "      <th>336705</th>\n",
       "      <td>1_364</td>\n",
       "      <td>10.30</td>\n",
       "      <td>1</td>\n",
       "      <td>2021-04-08 04:09:57.291662</td>\n",
       "      <td>s_17555</td>\n",
       "      <td>c_855</td>\n",
       "      <td>m</td>\n",
       "      <td>1951</td>\n",
       "    </tr>\n",
       "    <tr>\n",
       "      <th>336706</th>\n",
       "      <td>1_278</td>\n",
       "      <td>19.18</td>\n",
       "      <td>1</td>\n",
       "      <td>2021-05-22 22:44:44.719955</td>\n",
       "      <td>s_38163</td>\n",
       "      <td>c_1970</td>\n",
       "      <td>m</td>\n",
       "      <td>2002</td>\n",
       "    </tr>\n",
       "    <tr>\n",
       "      <th>336707</th>\n",
       "      <td>0_1931</td>\n",
       "      <td>4.99</td>\n",
       "      <td>0</td>\n",
       "      <td>2022-01-06 01:45:15.759634</td>\n",
       "      <td>s_145605</td>\n",
       "      <td>c_1970</td>\n",
       "      <td>m</td>\n",
       "      <td>2002</td>\n",
       "    </tr>\n",
       "    <tr>\n",
       "      <th>336708</th>\n",
       "      <td>0_142</td>\n",
       "      <td>19.85</td>\n",
       "      <td>0</td>\n",
       "      <td>2021-09-25 18:07:25.880052</td>\n",
       "      <td>s_95415</td>\n",
       "      <td>c_1232</td>\n",
       "      <td>f</td>\n",
       "      <td>1960</td>\n",
       "    </tr>\n",
       "    <tr>\n",
       "      <th>336710</th>\n",
       "      <td>1_367</td>\n",
       "      <td>13.99</td>\n",
       "      <td>1</td>\n",
       "      <td>2021-09-05 06:20:52.920885</td>\n",
       "      <td>s_85267</td>\n",
       "      <td>c_5962</td>\n",
       "      <td>f</td>\n",
       "      <td>1997</td>\n",
       "    </tr>\n",
       "  </tbody>\n",
       "</table>\n",
       "<p>317354 rows × 8 columns</p>\n",
       "</div>"
      ],
      "text/plain": [
       "       id_prod  price  categ                        date session_id client_id  \\\n",
       "0       0_1421  19.99      0  2021-05-12 23:26:29.885083    s_33709    c_7954   \n",
       "1       0_1142   3.42      0  2021-03-24 00:54:59.507581    s_10590    c_7954   \n",
       "2       0_1446   8.09      0  2021-11-26 18:04:33.019608   s_125461    c_7954   \n",
       "3       0_2291  12.99      0  2021-05-29 18:25:02.094891    s_41299    c_7954   \n",
       "4        1_385  25.99      1  2021-06-01 20:41:40.157683    s_42731    c_7954   \n",
       "...        ...    ...    ...                         ...        ...       ...   \n",
       "336705   1_364  10.30      1  2021-04-08 04:09:57.291662    s_17555     c_855   \n",
       "336706   1_278  19.18      1  2021-05-22 22:44:44.719955    s_38163    c_1970   \n",
       "336707  0_1931   4.99      0  2022-01-06 01:45:15.759634   s_145605    c_1970   \n",
       "336708   0_142  19.85      0  2021-09-25 18:07:25.880052    s_95415    c_1232   \n",
       "336710   1_367  13.99      1  2021-09-05 06:20:52.920885    s_85267    c_5962   \n",
       "\n",
       "       sex  birth  \n",
       "0        m   1973  \n",
       "1        m   1973  \n",
       "2        m   1973  \n",
       "3        m   1973  \n",
       "4        m   1973  \n",
       "...     ..    ...  \n",
       "336705   m   1951  \n",
       "336706   m   2002  \n",
       "336707   m   2002  \n",
       "336708   f   1960  \n",
       "336710   f   1997  \n",
       "\n",
       "[317354 rows x 8 columns]"
      ]
     },
     "execution_count": 162,
     "metadata": {},
     "output_type": "execute_result"
    }
   ],
   "source": [
    "# Produits dont les prix sont < 40\n",
    "Y = df_ventes_produits_clients.loc[df_ventes_produits_clients['price'] < 40 ]\n",
    "Y"
   ]
  },
  {
   "cell_type": "code",
   "execution_count": 159,
   "id": "30fafdf3-88cb-4aee-a38f-4f522e7eecf2",
   "metadata": {},
   "outputs": [
    {
     "data": {
      "text/html": [
       "<div>\n",
       "<style scoped>\n",
       "    .dataframe tbody tr th:only-of-type {\n",
       "        vertical-align: middle;\n",
       "    }\n",
       "\n",
       "    .dataframe tbody tr th {\n",
       "        vertical-align: top;\n",
       "    }\n",
       "\n",
       "    .dataframe thead th {\n",
       "        text-align: right;\n",
       "    }\n",
       "</style>\n",
       "<table border=\"1\" class=\"dataframe\">\n",
       "  <thead>\n",
       "    <tr style=\"text-align: right;\">\n",
       "      <th></th>\n",
       "      <th>id_prod</th>\n",
       "      <th>price</th>\n",
       "      <th>categ</th>\n",
       "      <th>date</th>\n",
       "      <th>session_id</th>\n",
       "      <th>client_id</th>\n",
       "      <th>sex</th>\n",
       "      <th>birth</th>\n",
       "    </tr>\n",
       "  </thead>\n",
       "  <tbody>\n",
       "    <tr>\n",
       "      <th>262</th>\n",
       "      <td>1_35</td>\n",
       "      <td>45.99</td>\n",
       "      <td>1</td>\n",
       "      <td>2021-04-02 04:16:53.540162</td>\n",
       "      <td>s_14766</td>\n",
       "      <td>c_5770</td>\n",
       "      <td>f</td>\n",
       "      <td>1977</td>\n",
       "    </tr>\n",
       "    <tr>\n",
       "      <th>522</th>\n",
       "      <td>2_1</td>\n",
       "      <td>56.99</td>\n",
       "      <td>2</td>\n",
       "      <td>2021-04-15 01:33:18.629293</td>\n",
       "      <td>s_20713</td>\n",
       "      <td>c_1508</td>\n",
       "      <td>f</td>\n",
       "      <td>1996</td>\n",
       "    </tr>\n",
       "    <tr>\n",
       "      <th>1113</th>\n",
       "      <td>2_46</td>\n",
       "      <td>41.31</td>\n",
       "      <td>2</td>\n",
       "      <td>2021-07-24 17:01:27.026839</td>\n",
       "      <td>s_66626</td>\n",
       "      <td>c_1609</td>\n",
       "      <td>m</td>\n",
       "      <td>1980</td>\n",
       "    </tr>\n",
       "    <tr>\n",
       "      <th>1607</th>\n",
       "      <td>1_564</td>\n",
       "      <td>62.99</td>\n",
       "      <td>1</td>\n",
       "      <td>2022-02-08 14:36:04.988885</td>\n",
       "      <td>s_161967</td>\n",
       "      <td>c_1609</td>\n",
       "      <td>m</td>\n",
       "      <td>1980</td>\n",
       "    </tr>\n",
       "    <tr>\n",
       "      <th>1608</th>\n",
       "      <td>1_564</td>\n",
       "      <td>62.99</td>\n",
       "      <td>1</td>\n",
       "      <td>2021-12-16 04:12:26.857565</td>\n",
       "      <td>s_135072</td>\n",
       "      <td>c_1609</td>\n",
       "      <td>m</td>\n",
       "      <td>1980</td>\n",
       "    </tr>\n",
       "    <tr>\n",
       "      <th>...</th>\n",
       "      <td>...</td>\n",
       "      <td>...</td>\n",
       "      <td>...</td>\n",
       "      <td>...</td>\n",
       "      <td>...</td>\n",
       "      <td>...</td>\n",
       "      <td>...</td>\n",
       "      <td>...</td>\n",
       "    </tr>\n",
       "    <tr>\n",
       "      <th>336695</th>\n",
       "      <td>2_110</td>\n",
       "      <td>62.25</td>\n",
       "      <td>2</td>\n",
       "      <td>2021-08-19 08:46:07.018249</td>\n",
       "      <td>s_77793</td>\n",
       "      <td>c_8005</td>\n",
       "      <td>f</td>\n",
       "      <td>1955</td>\n",
       "    </tr>\n",
       "    <tr>\n",
       "      <th>336697</th>\n",
       "      <td>2_135</td>\n",
       "      <td>68.99</td>\n",
       "      <td>2</td>\n",
       "      <td>2021-09-03 17:28:42.572885</td>\n",
       "      <td>s_84588</td>\n",
       "      <td>c_4934</td>\n",
       "      <td>m</td>\n",
       "      <td>1994</td>\n",
       "    </tr>\n",
       "    <tr>\n",
       "      <th>336709</th>\n",
       "      <td>2_181</td>\n",
       "      <td>57.99</td>\n",
       "      <td>2</td>\n",
       "      <td>2021-08-05 23:36:00.315963</td>\n",
       "      <td>s_71886</td>\n",
       "      <td>c_6837</td>\n",
       "      <td>f</td>\n",
       "      <td>1995</td>\n",
       "    </tr>\n",
       "    <tr>\n",
       "      <th>336711</th>\n",
       "      <td>2_163</td>\n",
       "      <td>68.99</td>\n",
       "      <td>2</td>\n",
       "      <td>2022-01-28 16:51:07.389515</td>\n",
       "      <td>s_156517</td>\n",
       "      <td>c_7739</td>\n",
       "      <td>m</td>\n",
       "      <td>1997</td>\n",
       "    </tr>\n",
       "    <tr>\n",
       "      <th>336712</th>\n",
       "      <td>2_101</td>\n",
       "      <td>63.99</td>\n",
       "      <td>2</td>\n",
       "      <td>2021-07-21 09:11:12.619736</td>\n",
       "      <td>s_65192</td>\n",
       "      <td>c_7089</td>\n",
       "      <td>m</td>\n",
       "      <td>2002</td>\n",
       "    </tr>\n",
       "  </tbody>\n",
       "</table>\n",
       "<p>19359 rows × 8 columns</p>\n",
       "</div>"
      ],
      "text/plain": [
       "       id_prod  price  categ                        date session_id client_id  \\\n",
       "262       1_35  45.99      1  2021-04-02 04:16:53.540162    s_14766    c_5770   \n",
       "522        2_1  56.99      2  2021-04-15 01:33:18.629293    s_20713    c_1508   \n",
       "1113      2_46  41.31      2  2021-07-24 17:01:27.026839    s_66626    c_1609   \n",
       "1607     1_564  62.99      1  2022-02-08 14:36:04.988885   s_161967    c_1609   \n",
       "1608     1_564  62.99      1  2021-12-16 04:12:26.857565   s_135072    c_1609   \n",
       "...        ...    ...    ...                         ...        ...       ...   \n",
       "336695   2_110  62.25      2  2021-08-19 08:46:07.018249    s_77793    c_8005   \n",
       "336697   2_135  68.99      2  2021-09-03 17:28:42.572885    s_84588    c_4934   \n",
       "336709   2_181  57.99      2  2021-08-05 23:36:00.315963    s_71886    c_6837   \n",
       "336711   2_163  68.99      2  2022-01-28 16:51:07.389515   s_156517    c_7739   \n",
       "336712   2_101  63.99      2  2021-07-21 09:11:12.619736    s_65192    c_7089   \n",
       "\n",
       "       sex  birth  \n",
       "262      f   1977  \n",
       "522      f   1996  \n",
       "1113     m   1980  \n",
       "1607     m   1980  \n",
       "1608     m   1980  \n",
       "...     ..    ...  \n",
       "336695   f   1955  \n",
       "336697   m   1994  \n",
       "336709   f   1995  \n",
       "336711   m   1997  \n",
       "336712   m   2002  \n",
       "\n",
       "[19359 rows x 8 columns]"
      ]
     },
     "execution_count": 159,
     "metadata": {},
     "output_type": "execute_result"
    }
   ],
   "source": [
    "# Produits dont les prix sont > 40\n",
    "X = df_ventes_produits_clients.loc[df_ventes_produits_clients['price'] > 40 ]\n",
    "X"
   ]
  },
  {
   "cell_type": "markdown",
   "id": "68bb145f-ab4d-451d-a177-9cbe1ae6f61f",
   "metadata": {},
   "source": [
    "Sur 336713 produits, 19359 ont un prix > 40."
   ]
  },
  {
   "cell_type": "markdown",
   "id": "7e0b70b4-fe1c-497d-a47c-057ec704203d",
   "metadata": {},
   "source": [
    "- Analyse de concentration : courbe de Lorenz et indice de Gini"
   ]
  },
  {
   "cell_type": "code",
   "execution_count": 156,
   "id": "8fe0ee0b-1f01-4aae-ae4b-a286289d6174",
   "metadata": {},
   "outputs": [
    {
     "data": {
      "text/plain": [
       "0    209426\n",
       "1    109735\n",
       "2     17552\n",
       "Name: categ, dtype: int64"
      ]
     },
     "execution_count": 156,
     "metadata": {},
     "output_type": "execute_result"
    }
   ],
   "source": [
    "df_ventes_produits_clients.categ.value_counts()"
   ]
  },
  {
   "cell_type": "code",
   "execution_count": 146,
   "id": "6b1e5d8f-31ae-4826-8d4e-fc848e31980f",
   "metadata": {},
   "outputs": [
    {
     "data": {
      "text/plain": [
       "84520"
      ]
     },
     "execution_count": 146,
     "metadata": {},
     "output_type": "execute_result"
    }
   ],
   "source": [
    "df_ventes_produits_clients['price'].argmax()"
   ]
  },
  {
   "cell_type": "code",
   "execution_count": 158,
   "id": "a4701701-c039-420b-ab63-534d4b909b9e",
   "metadata": {},
   "outputs": [
    {
     "data": {
      "text/plain": [
       "2"
      ]
     },
     "execution_count": 158,
     "metadata": {},
     "output_type": "execute_result"
    }
   ],
   "source": [
    "df_ventes_produits_clients.loc[84520, 'categ']"
   ]
  },
  {
   "cell_type": "code",
   "execution_count": 160,
   "id": "d97f5deb-d5c1-485c-a171-72c57522f462",
   "metadata": {},
   "outputs": [
    {
     "data": {
      "text/plain": [
       "2    17449\n",
       "1     1906\n",
       "0        4\n",
       "Name: categ, dtype: int64"
      ]
     },
     "execution_count": 160,
     "metadata": {},
     "output_type": "execute_result"
    }
   ],
   "source": [
    "X.categ.value_counts()"
   ]
  },
  {
   "cell_type": "code",
   "execution_count": 161,
   "id": "749b8b51-c363-418f-b419-698bb00c0b4d",
   "metadata": {},
   "outputs": [
    {
     "data": {
      "text/plain": [
       "19355"
      ]
     },
     "execution_count": 161,
     "metadata": {},
     "output_type": "execute_result"
    }
   ],
   "source": [
    "17449 + 1906"
   ]
  },
  {
   "cell_type": "markdown",
   "id": "a84e7603-8e52-4f74-ae78-2760ea6a6409",
   "metadata": {},
   "source": [
    "Les produits de 'categ' 2 ont majoritairement un prix > 40. "
   ]
  },
  {
   "cell_type": "code",
   "execution_count": 163,
   "id": "502652dc-74f3-4089-bc78-f4be03c66d95",
   "metadata": {},
   "outputs": [
    {
     "data": {
      "text/plain": [
       "0    209422\n",
       "1    107829\n",
       "2       103\n",
       "Name: categ, dtype: int64"
      ]
     },
     "execution_count": 163,
     "metadata": {},
     "output_type": "execute_result"
    }
   ],
   "source": [
    "Y.categ.value_counts()"
   ]
  },
  {
   "cell_type": "code",
   "execution_count": null,
   "id": "942a4743-d4dd-4f97-af22-767dbd725f24",
   "metadata": {},
   "outputs": [],
   "source": []
  }
 ],
 "metadata": {
  "kernelspec": {
   "display_name": "Python 3 (ipykernel)",
   "language": "python",
   "name": "python3"
  },
  "language_info": {
   "codemirror_mode": {
    "name": "ipython",
    "version": 3
   },
   "file_extension": ".py",
   "mimetype": "text/x-python",
   "name": "python",
   "nbconvert_exporter": "python",
   "pygments_lexer": "ipython3",
   "version": "3.9.12"
  }
 },
 "nbformat": 4,
 "nbformat_minor": 5
}
